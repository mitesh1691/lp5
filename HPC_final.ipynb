{
  "nbformat": 4,
  "nbformat_minor": 0,
  "metadata": {
    "colab": {
      "provenance": [],
      "gpuType": "T4",
      "authorship_tag": "ABX9TyOprnYUnk1i7zhzE6GrwO0T",
      "include_colab_link": true
    },
    "kernelspec": {
      "name": "python3",
      "display_name": "Python 3"
    },
    "language_info": {
      "name": "python"
    },
    "accelerator": "GPU"
  },
  "cells": [
    {
      "cell_type": "markdown",
      "metadata": {
        "id": "view-in-github",
        "colab_type": "text"
      },
      "source": [
        "<a href=\"https://colab.research.google.com/github/mitesh1691/lp5/blob/main/HPC_final.ipynb\" target=\"_parent\"><img src=\"https://colab.research.google.com/assets/colab-badge.svg\" alt=\"Open In Colab\"/></a>"
      ]
    },
    {
      "cell_type": "code",
      "source": [
        "!pip install git+https://github.com/afnan47/cuda.git"
      ],
      "metadata": {
        "colab": {
          "base_uri": "https://localhost:8080/"
        },
        "id": "SwTGniadQ3GU",
        "outputId": "99fa9c60-bf9e-49a2-8902-93a1f30452a0"
      },
      "execution_count": null,
      "outputs": [
        {
          "output_type": "stream",
          "name": "stdout",
          "text": [
            "Collecting git+https://github.com/afnan47/cuda.git\n",
            "  Cloning https://github.com/afnan47/cuda.git to /tmp/pip-req-build-bjikjxee\n",
            "  Running command git clone --filter=blob:none --quiet https://github.com/afnan47/cuda.git /tmp/pip-req-build-bjikjxee\n",
            "  Resolved https://github.com/afnan47/cuda.git to commit aac710a35f52bb78ab34d2e52517237941399eff\n",
            "  Preparing metadata (setup.py) ... \u001b[?25l\u001b[?25hdone\n",
            "Building wheels for collected packages: NVCCPlugin\n",
            "  Building wheel for NVCCPlugin (setup.py) ... \u001b[?25l\u001b[?25hdone\n",
            "  Created wheel for NVCCPlugin: filename=NVCCPlugin-0.0.2-py3-none-any.whl size=4289 sha256=a9a0a0e91e61005409b9d9e4bd5e8f7b53f63dfd6b6c9036ac42372026ac2a17\n",
            "  Stored in directory: /tmp/pip-ephem-wheel-cache-0s4hxga3/wheels/aa/f3/44/e10c1d226ec561d971fcd4b0463f6bff08602afa928a3e7bc7\n",
            "Successfully built NVCCPlugin\n",
            "Installing collected packages: NVCCPlugin\n",
            "Successfully installed NVCCPlugin-0.0.2\n"
          ]
        }
      ]
    },
    {
      "cell_type": "code",
      "source": [
        "%load_ext nvcc_plugin"
      ],
      "metadata": {
        "colab": {
          "base_uri": "https://localhost:8080/"
        },
        "id": "9dSWfVHYQ28V",
        "outputId": "b4fc968f-a469-4309-ce1e-9f54e4921328"
      },
      "execution_count": null,
      "outputs": [
        {
          "output_type": "stream",
          "name": "stdout",
          "text": [
            "created output directory at /content/src\n",
            "Out bin /content/result.out\n"
          ]
        }
      ]
    },
    {
      "cell_type": "code",
      "source": [
        "%%cu\n",
        "#include <iostream>\n",
        "int main(){\n",
        "  std::cout << \"Hello World\\n\";\n",
        "  return 0;\n",
        "}"
      ],
      "metadata": {
        "colab": {
          "base_uri": "https://localhost:8080/"
        },
        "id": "WqnIM2lfgAMz",
        "outputId": "3aa9d4e5-1485-4a3b-8561-667523f365e2"
      },
      "execution_count": null,
      "outputs": [
        {
          "output_type": "stream",
          "name": "stdout",
          "text": [
            "Hello World\n",
            "\n"
          ]
        }
      ]
    },
    {
      "cell_type": "markdown",
      "source": [
        "# Assignment 1:"
      ],
      "metadata": {
        "id": "Ks5bRVrjyMXV"
      }
    },
    {
      "cell_type": "markdown",
      "source": [
        "## DFS"
      ],
      "metadata": {
        "id": "GUE3KEziyXxu"
      }
    },
    {
      "cell_type": "code",
      "source": [
        "%%writefile dfs.cu\n",
        "\n",
        "#include <iostream>\n",
        "#include <vector>\n",
        "#include <omp.h>\n",
        "\n",
        "using namespace std;\n",
        "\n",
        "// Graph class representing the adjacency list\n",
        "class Graph {\n",
        "    int V;  // Number of vertices\n",
        "    vector<vector<int>> adj;  // Adjacency list\n",
        "\n",
        "public:\n",
        "    Graph(int V) : V(V), adj(V) {}\n",
        "\n",
        "    // Add an edge to the graph\n",
        "    void addEdge(int v, int w) {\n",
        "        adj[v].push_back(w);\n",
        "        adj[w].push_back(v);\n",
        "    }\n",
        "\n",
        "\n",
        "    // Parallel Depth-First Search\n",
        "    void parallelDFS(int startVertex) {\n",
        "        vector<bool> visited(V, false);\n",
        "        double startTime = omp_get_wtime();\n",
        "        parallelDFSUtil(startVertex, visited);\n",
        "        double endTime = omp_get_wtime();\n",
        "        cout << \"\\nExecution Time (DFS): \" << endTime - startTime << \" seconds\" << endl;\n",
        "    }\n",
        "\n",
        "    // Parallel DFS utility function\n",
        "    void parallelDFSUtil(int v, vector<bool>& visited) {\n",
        "        visited[v] = true;\n",
        "        cout << v << \" \";\n",
        "\n",
        "        #pragma omp parallel for\n",
        "        for (int i = 0; i < adj[v].size(); i++) {\n",
        "            int n = adj[v][i];\n",
        "            if (!visited[n])\n",
        "                parallelDFSUtil(n, visited);\n",
        "        }\n",
        "    }\n",
        "};\n",
        "\n",
        "int main() {\n",
        "    int V, E;\n",
        "    cout << \"Enter the number of vertices: \";\n",
        "    cin >> V;\n",
        "    cout << \"Enter the number of edges: \";\n",
        "    cin >> E;\n",
        "\n",
        "    // Create a graph\n",
        "    Graph g(V);\n",
        "\n",
        "    cout << \"Enter edges (vertex pairs):\\n\";\n",
        "    for (int i = 0; i < E; ++i) {\n",
        "        int v, w;\n",
        "        cin >> v >> w;\n",
        "        if (v < 0 || v >= V || w < 0 || w >= V) {\n",
        "            cout << \"Invalid vertex index!\" << endl;\n",
        "            return 1; // Exit with error code\n",
        "        }\n",
        "        g.addEdge(v, w);\n",
        "    }\n",
        "\n",
        "    int startVertex;\n",
        "    cout << \"Enter the start vertex for DFS: \";\n",
        "    cin >> startVertex;\n",
        "\n",
        "    cout << \"Depth-First Search (DFS): \";\n",
        "    g.parallelDFS(startVertex);\n",
        "    cout << endl;\n",
        "\n",
        "    return 0;\n",
        "}"
      ],
      "metadata": {
        "colab": {
          "base_uri": "https://localhost:8080/"
        },
        "id": "pGrnXEcfydgl",
        "outputId": "c79152f8-81cb-49e1-96e1-e6250043e27c"
      },
      "execution_count": null,
      "outputs": [
        {
          "output_type": "stream",
          "name": "stdout",
          "text": [
            "Writing dfs.cu\n"
          ]
        }
      ]
    },
    {
      "cell_type": "code",
      "source": [
        "!nvcc -o dfs dfs.cu -Xcompiler -fopenmp\n",
        "!./dfs"
      ],
      "metadata": {
        "colab": {
          "base_uri": "https://localhost:8080/"
        },
        "id": "5GsIJlGa0A0k",
        "outputId": "3ba8835a-5e34-41ab-da1a-b86b3ba3b2f7"
      },
      "execution_count": null,
      "outputs": [
        {
          "output_type": "stream",
          "name": "stdout",
          "text": [
            "Enter the number of vertices: 5\n",
            "Enter the number of edges: 6\n",
            "Enter edges (vertex pairs):\n",
            "0 1\n",
            "0 2\n",
            "1 3\n",
            "1 2\n",
            "2 4\n",
            "3 4\n",
            "Enter the start vertex for DFS: 0\n",
            "Depth-First Search (DFS): 0 1 3 2 4 \n",
            "Execution Time (DFS): 0.000164871 seconds\n",
            "\n"
          ]
        }
      ]
    },
    {
      "cell_type": "markdown",
      "source": [
        "## BFS"
      ],
      "metadata": {
        "id": "B80OxlIxybpc"
      }
    },
    {
      "cell_type": "code",
      "source": [
        "%%writefile bfs.cu\n",
        "\n",
        "#include <iostream>\n",
        "#include <vector>\n",
        "#include <queue>\n",
        "#include <omp.h>\n",
        "\n",
        "using namespace std;\n",
        "\n",
        "// Graph class representing the adjacency list\n",
        "class Graph {\n",
        "    int V;  // Number of vertices\n",
        "    vector<vector<int>> adj;  // Adjacency list\n",
        "\n",
        "public:\n",
        "    Graph(int V) : V(V), adj(V) {}\n",
        "\n",
        "    // Add an edge to the graph\n",
        "    void addEdge(int v, int w) {\n",
        "        adj[v].push_back(w);\n",
        "        adj[w].push_back(v);\n",
        "    }\n",
        "\n",
        "    // Parallel Breadth-First Search\n",
        "    void parallelBFS(int startVertex) {\n",
        "        vector<bool> visited(V, false);\n",
        "        queue<int> q;\n",
        "        double startTime = omp_get_wtime();\n",
        "\n",
        "        visited[startVertex] = true;\n",
        "        q.push(startVertex);\n",
        "\n",
        "        while (!q.empty()) {\n",
        "            int v = q.front();\n",
        "            q.pop();\n",
        "            cout << v << \" \";\n",
        "\n",
        "            #pragma omp parallel for\n",
        "            for (int i = 0; i < adj[v].size(); i++) {\n",
        "                int n = adj[v][i];\n",
        "                if (!visited[n]) {\n",
        "                    visited[n] = true;\n",
        "                    q.push(n);\n",
        "                }\n",
        "            }\n",
        "        }\n",
        "\n",
        "        double endTime = omp_get_wtime();\n",
        "        cout << \"\\nExecution Time (BFS): \" << endTime - startTime << \" seconds\" << endl;\n",
        "    }\n",
        "};\n",
        "\n",
        "int main() {\n",
        "    int V, E;\n",
        "    cout << \"Enter the number of vertices: \";\n",
        "    cin >> V;\n",
        "    cout << \"Enter the number of edges: \";\n",
        "    cin >> E;\n",
        "\n",
        "    // Create a graph\n",
        "    Graph g(V);\n",
        "\n",
        "    cout << \"Enter edges (vertex pairs):\\n\";\n",
        "    for (int i = 0; i < E; ++i) {\n",
        "        int v, w;\n",
        "        cin >> v >> w;\n",
        "        if (v < 0 || v >= V || w < 0 || w >= V) {\n",
        "            cout << \"Invalid vertex index!\" << endl;\n",
        "            return 1; // Exit with error code\n",
        "        }\n",
        "        g.addEdge(v, w);\n",
        "    }\n",
        "\n",
        "    int startVertex;\n",
        "    cout << \"Enter the start vertex for BFS: \";\n",
        "    cin >> startVertex;\n",
        "\n",
        "    cout << \"Breadth-First Search (BFS): \";\n",
        "    g.parallelBFS(startVertex);\n",
        "    cout << endl;\n",
        "\n",
        "    return 0;\n",
        "}"
      ],
      "metadata": {
        "colab": {
          "base_uri": "https://localhost:8080/"
        },
        "id": "yCi7MQrFi9E8",
        "outputId": "69ba26ae-200a-4b90-c1e1-95db601dc4ac"
      },
      "execution_count": null,
      "outputs": [
        {
          "output_type": "stream",
          "name": "stdout",
          "text": [
            "Writing ass2.cu\n"
          ]
        }
      ]
    },
    {
      "cell_type": "code",
      "source": [
        "!nvcc -o bfs bfs.cu -Xcompiler -fopenmp\n",
        "!./bfs"
      ],
      "metadata": {
        "colab": {
          "base_uri": "https://localhost:8080/"
        },
        "id": "p5ixbngvjC3X",
        "outputId": "64541b12-d78f-4d12-a230-402432d9fd83"
      },
      "execution_count": null,
      "outputs": [
        {
          "output_type": "stream",
          "name": "stdout",
          "text": [
            "Enter the number of vertices: 5\n",
            "Enter the number of edges: 6\n",
            "Enter edges (vertex pairs):\n",
            "0 1\n",
            "0 2\n",
            "1 3\n",
            "1 2\n",
            "2 4\n",
            "3 4\n",
            "Enter the start vertex for BFS: 0\n",
            "Breadth-First Search (BFS): 0 1 2 3 4 \n",
            "Execution Time (BFS): 0.00027463 seconds\n",
            "\n"
          ]
        }
      ]
    },
    {
      "cell_type": "markdown",
      "source": [
        "# Assignment 2:\n"
      ],
      "metadata": {
        "id": "9t9YW75NyML1"
      }
    },
    {
      "cell_type": "markdown",
      "source": [
        "## Bubble Sort"
      ],
      "metadata": {
        "id": "pqwp7beHyfSc"
      }
    },
    {
      "cell_type": "code",
      "source": [
        "%%writefile bubble.cu\n",
        "\n",
        "\n",
        "#include <iostream>\n",
        "#include <cstdlib>\n",
        "#include <ctime>\n",
        "#include <omp.h>\n",
        "\n",
        "using namespace std;\n",
        "\n",
        "void bubble(int array[], int n) {\n",
        "    for (int i = 0; i < n - 1; i++) {\n",
        "        for (int j = 0; j < n - i - 1; j++) {\n",
        "            if (array[j] > array[j + 1]) swap(array[j], array[j + 1]);\n",
        "        }\n",
        "    }\n",
        "}\n",
        "\n",
        "void pBubble(int array[], int n) {\n",
        "    // Sort odd indexed numbers\n",
        "    for (int i = 0; i < n; ++i) {\n",
        "        #pragma omp for\n",
        "        for (int j = 1; j < n; j += 2) {\n",
        "            if (array[j] < array[j - 1]) {\n",
        "                swap(array[j], array[j - 1]);\n",
        "            }\n",
        "        }\n",
        "\n",
        "        // Synchronize\n",
        "        #pragma omp barrier\n",
        "\n",
        "        // Sort even indexed numbers\n",
        "        #pragma omp for\n",
        "        for (int j = 2; j < n; j += 2) {\n",
        "            if (array[j] < array[j - 1]) {\n",
        "                swap(array[j], array[j - 1]);\n",
        "            }\n",
        "        }\n",
        "    }\n",
        "}\n",
        "\n",
        "void printArray(int arr[], int n) {\n",
        "    for (int i = 0; i < n; i++) cout << arr[i] << \" \";\n",
        "    cout << \"\\n\";\n",
        "}\n",
        "\n",
        "int main() {\n",
        "    // Set up variables\n",
        "    int n;\n",
        "    cout << \"Enter the size of the array: \";\n",
        "    cin >> n;\n",
        "\n",
        "    int arr[n];\n",
        "    double start_time, end_time;\n",
        "\n",
        "    // Seed the random number generator\n",
        "    srand(time(0));\n",
        "\n",
        "    // Fill the array with random numbers\n",
        "    for (int i = 0; i < n; i++) arr[i] = rand() % 1000; // Generating random numbers between 0 to 999\n",
        "\n",
        "    // Sequential time\n",
        "    start_time = omp_get_wtime();\n",
        "    bubble(arr, n);\n",
        "    end_time = omp_get_wtime();\n",
        "    cout << \"Sequential Bubble Sort took: \" << end_time - start_time << \" seconds.\\n\";\n",
        "    printArray(arr, n);\n",
        "\n",
        "    // Parallel time\n",
        "    start_time = omp_get_wtime();\n",
        "    pBubble(arr, n);\n",
        "    end_time = omp_get_wtime();\n",
        "    cout << \"Parallel Bubble Sort took: \" << end_time - start_time << \" seconds.\\n\";\n",
        "    printArray(arr, n);\n",
        "\n",
        "    return 0;\n",
        "}"
      ],
      "metadata": {
        "colab": {
          "base_uri": "https://localhost:8080/"
        },
        "id": "Cvo4rANIzX8O",
        "outputId": "77fca350-4f47-4cf2-856b-f58917dc0b31"
      },
      "execution_count": null,
      "outputs": [
        {
          "output_type": "stream",
          "name": "stdout",
          "text": [
            "Writing bubble.cu\n"
          ]
        }
      ]
    },
    {
      "cell_type": "code",
      "source": [
        "!nvcc -o bubble bubble.cu -Xcompiler -fopenmp\n",
        "!./bubble"
      ],
      "metadata": {
        "colab": {
          "base_uri": "https://localhost:8080/"
        },
        "id": "wL4eIJLz0cGg",
        "outputId": "6e1643e9-4867-4f3a-99a9-fdde7eac32df"
      },
      "execution_count": null,
      "outputs": [
        {
          "output_type": "stream",
          "name": "stdout",
          "text": [
            "Enter the size of the array: 15\n",
            "Sequential Bubble Sort took: 2.238e-06 seconds.\n",
            "112 138 170 272 333 377 421 480 480 557 582 591 619 715 808 \n",
            "Parallel Bubble Sort took: 2.424e-06 seconds.\n",
            "112 138 170 272 333 377 421 480 480 557 582 591 619 715 808 \n"
          ]
        }
      ]
    },
    {
      "cell_type": "markdown",
      "source": [
        "## Merge Sort"
      ],
      "metadata": {
        "id": "nMg6ycsFyiiC"
      }
    },
    {
      "cell_type": "code",
      "source": [
        "%%writefile merge.cu\n",
        "\n",
        "#include <iostream>\n",
        "#include <cstdlib>\n",
        "#include <ctime>\n",
        "#include <omp.h>\n",
        "\n",
        "using namespace std;\n",
        "\n",
        "void merge(int arr[], int low, int mid, int high) {\n",
        "    // Create arrays of left and right partitions\n",
        "    int n1 = mid - low + 1;\n",
        "    int n2 = high - mid;\n",
        "\n",
        "    int left[n1];\n",
        "    int right[n2];\n",
        "\n",
        "    // Copy all left elements\n",
        "    for (int i = 0; i < n1; i++) left[i] = arr[low + i];\n",
        "\n",
        "    // Copy all right elements\n",
        "    for (int j = 0; j < n2; j++) right[j] = arr[mid + 1 + j];\n",
        "\n",
        "    // Compare and place elements\n",
        "    int i = 0, j = 0, k = low;\n",
        "\n",
        "    while (i < n1 && j < n2) {\n",
        "        if (left[i] <= right[j]) {\n",
        "            arr[k] = left[i];\n",
        "            i++;\n",
        "        } else {\n",
        "            arr[k] = right[j];\n",
        "            j++;\n",
        "        }\n",
        "        k++;\n",
        "    }\n",
        "\n",
        "    // If any elements are left out\n",
        "    while (i < n1) {\n",
        "        arr[k] = left[i];\n",
        "        i++;\n",
        "        k++;\n",
        "    }\n",
        "\n",
        "    while (j < n2) {\n",
        "        arr[k] = right[j];\n",
        "        j++;\n",
        "        k++;\n",
        "    }\n",
        "}\n",
        "\n",
        "void parallelMergeSort(int arr[], int low, int high) {\n",
        "    if (low < high) {\n",
        "        int mid = (low + high) / 2;\n",
        "\n",
        "        #pragma omp parallel sections\n",
        "        {\n",
        "            #pragma omp section\n",
        "            {\n",
        "                parallelMergeSort(arr, low, mid);\n",
        "            }\n",
        "\n",
        "            #pragma omp section\n",
        "            {\n",
        "                parallelMergeSort(arr, mid + 1, high);\n",
        "            }\n",
        "        }\n",
        "        merge(arr, low, mid, high);\n",
        "    }\n",
        "}\n",
        "\n",
        "void mergeSort(int arr[], int low, int high) {\n",
        "    if (low < high) {\n",
        "        int mid = (low + high) / 2;\n",
        "        mergeSort(arr, low, mid);\n",
        "        mergeSort(arr, mid + 1, high);\n",
        "        merge(arr, low, mid, high);\n",
        "    }\n",
        "}\n",
        "\n",
        "void printArray(int arr[], int n) {\n",
        "    for (int i = 0; i < n; i++) cout << arr[i] << \" \";\n",
        "    cout << \"\\n\";\n",
        "}\n",
        "\n",
        "int main() {\n",
        "    int n;\n",
        "    cout << \"Enter the size of the array: \";\n",
        "    cin >> n;\n",
        "\n",
        "    int arr[n];\n",
        "    double start_time, end_time;\n",
        "\n",
        "    // Seed the random number generator\n",
        "    srand(time(0));\n",
        "\n",
        "    // Fill the array with random numbers\n",
        "    for (int i = 0; i < n; i++) arr[i] = rand() % 1000; // Generating random numbers between 0 to 999\n",
        "\n",
        "    // Measure Sequential Time\n",
        "    start_time = omp_get_wtime();\n",
        "    mergeSort(arr, 0, n - 1);\n",
        "    end_time = omp_get_wtime();\n",
        "    cout << \"Time taken by sequential algorithm: \" << end_time - start_time << \" seconds\\n\";\n",
        "    cout << \"Sorted array (sequential): \";\n",
        "    printArray(arr, n);\n",
        "\n",
        "    // Measure Parallel time\n",
        "    start_time = omp_get_wtime();\n",
        "    parallelMergeSort(arr, 0, n - 1);\n",
        "    end_time = omp_get_wtime();\n",
        "    cout << \"Time taken by parallel algorithm: \" << end_time - start_time << \" seconds\\n\";\n",
        "    cout << \"Sorted array (parallel): \";\n",
        "    printArray(arr, n);\n",
        "\n",
        "    return 0;\n",
        "}"
      ],
      "metadata": {
        "colab": {
          "base_uri": "https://localhost:8080/"
        },
        "id": "gyfeI-4EyexL",
        "outputId": "71cbba12-0fcb-4e31-9220-e542cf76c951"
      },
      "execution_count": null,
      "outputs": [
        {
          "output_type": "stream",
          "name": "stdout",
          "text": [
            "Writing merge.cu\n"
          ]
        }
      ]
    },
    {
      "cell_type": "code",
      "source": [
        "!nvcc -o merge merge.cu -Xcompiler -fopenmp\n",
        "!./merge"
      ],
      "metadata": {
        "colab": {
          "base_uri": "https://localhost:8080/"
        },
        "id": "UAu_BktH0slb",
        "outputId": "52ddb480-0063-43b3-d420-f7bf9b525f05"
      },
      "execution_count": null,
      "outputs": [
        {
          "output_type": "stream",
          "name": "stdout",
          "text": [
            "Enter the size of the array: 15\n",
            "Time taken by sequential algorithm: 2.258e-06 seconds\n",
            "Sorted array (sequential): 32 122 130 140 147 223 240 388 428 428 677 772 825 929 974 \n",
            "Time taken by parallel algorithm: 0.000158596 seconds\n",
            "Sorted array (parallel): 32 122 130 140 147 223 240 388 428 428 677 772 825 929 974 \n"
          ]
        }
      ]
    },
    {
      "cell_type": "markdown",
      "source": [
        "# Assignment 3:\n"
      ],
      "metadata": {
        "id": "Oj56BKnwyMIP"
      }
    },
    {
      "cell_type": "markdown",
      "source": [
        "## Parallel Reduction - Min, Max, Sum, AVG"
      ],
      "metadata": {
        "id": "FLPcY1JKypjE"
      }
    },
    {
      "cell_type": "code",
      "source": [
        "%%writefile ass3.cu\n",
        "\n",
        "#include<iostream>\n",
        "#include<omp.h>\n",
        "#include<cstdlib>\n",
        "#include<ctime>\n",
        "\n",
        "using namespace std;\n",
        "\n",
        "int minval(int arr[], int n){\n",
        "    int minval = arr[0];\n",
        "    #pragma omp parallel for reduction(min : minval)\n",
        "    for(int i = 0; i < n; i++){\n",
        "        if(arr[i] < minval) minval = arr[i];\n",
        "    }\n",
        "    return minval;\n",
        "}\n",
        "\n",
        "int maxval(int arr[], int n){\n",
        "    int maxval = arr[0];\n",
        "    #pragma omp parallel for reduction(max : maxval)\n",
        "    for(int i = 0; i < n; i++){\n",
        "        if(arr[i] > maxval) maxval = arr[i];\n",
        "    }\n",
        "    return maxval;\n",
        "}\n",
        "\n",
        "int sum(int arr[], int n){\n",
        "    int sum = 0;\n",
        "    #pragma omp parallel for reduction(+ : sum)\n",
        "    for(int i = 0; i < n; i++){\n",
        "        sum += arr[i];\n",
        "    }\n",
        "    return sum;\n",
        "}\n",
        "\n",
        "int average(int arr[], int n){\n",
        "    return (double)sum(arr, n) / n;\n",
        "}\n",
        "\n",
        "int main(){\n",
        "    int n;\n",
        "    cout << \"Enter the size of the array: \";\n",
        "    cin >> n;\n",
        "\n",
        "    int arr[n];\n",
        "\n",
        "    // Seed the random number generator\n",
        "    srand(time(0));\n",
        "\n",
        "    // Fill the array with random numbers\n",
        "    cout << \"Generated array: \";\n",
        "    for(int i = 0; i < n; i++) {\n",
        "        arr[i] = rand() % 100; // Generating random numbers between 0 to 99\n",
        "        cout << arr[i] << \" \";\n",
        "    }\n",
        "    cout << endl;\n",
        "\n",
        "    cout << \"The minimum value is: \" << minval(arr, n) << '\\n';\n",
        "    cout << \"The maximum value is: \" << maxval(arr, n) << '\\n';\n",
        "    cout << \"The summation is: \" << sum(arr, n) << '\\n';\n",
        "    cout << \"The average is: \" << average(arr, n) << '\\n';\n",
        "    return 0;\n",
        "}"
      ],
      "metadata": {
        "colab": {
          "base_uri": "https://localhost:8080/"
        },
        "id": "8iBUwyMTgDvt",
        "outputId": "4cc05f1c-4248-487f-c2d8-0f61c00d811b"
      },
      "execution_count": null,
      "outputs": [
        {
          "output_type": "stream",
          "name": "stdout",
          "text": [
            "Writing ass1.cu\n"
          ]
        }
      ]
    },
    {
      "cell_type": "code",
      "source": [
        "!nvcc -o ass3 ass3.cu -Xcompiler -fopenmp\n",
        "!./ass3"
      ],
      "metadata": {
        "colab": {
          "base_uri": "https://localhost:8080/"
        },
        "id": "NzBCmrGqgO2f",
        "outputId": "51dec01c-5e81-48fa-f91c-94102511f10e"
      },
      "execution_count": null,
      "outputs": [
        {
          "output_type": "stream",
          "name": "stdout",
          "text": [
            "Enter the size of the array: 10\n",
            "Generated array: 65 33 51 40 36 45 60 37 4 97 \n",
            "The minimum value is: 4\n",
            "The maximum value is: 97\n",
            "The summation is: 468\n",
            "The average is: 46\n"
          ]
        }
      ]
    },
    {
      "cell_type": "markdown",
      "source": [
        "# Assignment 4:\n"
      ],
      "metadata": {
        "id": "kI1sjMPsyMCm"
      }
    },
    {
      "cell_type": "markdown",
      "source": [
        "## Vector Addition"
      ],
      "metadata": {
        "id": "e1lEAOtR04OL"
      }
    },
    {
      "cell_type": "code",
      "source": [
        "%%writefile vectorAdd.cu\n",
        "\n",
        "#include <iostream>\n",
        "#include <cstdlib>\n",
        "#include <ctime>\n",
        "\n",
        "using namespace std;\n",
        "\n",
        "__global__ void add(int* A, int* B, int* C, int size) {\n",
        "    int tid = blockIdx.x * blockDim.x + threadIdx.x;\n",
        "\n",
        "    if (tid < size) {\n",
        "        C[tid] = A[tid] + B[tid];\n",
        "    }\n",
        "}\n",
        "\n",
        "void initializeRandom(int* vector, int size, int seed) {\n",
        "    srand(seed);\n",
        "    for (int i = 0; i < size; i++) {\n",
        "        vector[i] = rand() % 100; // Generating random numbers between 0 to 99\n",
        "    }\n",
        "}\n",
        "\n",
        "void print(int* vector, int size) {\n",
        "    for (int i = 0; i < size; i++) {\n",
        "        cout << vector[i] << \" \";\n",
        "    }\n",
        "    cout << endl;\n",
        "}\n",
        "\n",
        "int main() {\n",
        "    int N;\n",
        "    cout << \"Enter the size of the vectors: \";\n",
        "    cin >> N;\n",
        "\n",
        "    int* A, * B, * C;\n",
        "\n",
        "    int vectorSize = N;\n",
        "    size_t vectorBytes = vectorSize * sizeof(int);\n",
        "\n",
        "    A = new int[vectorSize];\n",
        "    B = new int[vectorSize];\n",
        "    C = new int[vectorSize];\n",
        "\n",
        "    // Use the new function to initialize vectors with different random elements\n",
        "    initializeRandom(A, vectorSize, 1234); // Use different seed for vector A\n",
        "    initializeRandom(B, vectorSize, 5678); // Use different seed for vector B\n",
        "\n",
        "    cout << \"Vector A: \";\n",
        "    print(A, N);\n",
        "    cout << \"Vector B: \";\n",
        "    print(B, N);\n",
        "\n",
        "    int* X, * Y, * Z;\n",
        "    cudaMalloc(&X, vectorBytes);\n",
        "    cudaMalloc(&Y, vectorBytes);\n",
        "    cudaMalloc(&Z, vectorBytes);\n",
        "\n",
        "    cudaMemcpy(X, A, vectorBytes, cudaMemcpyHostToDevice);\n",
        "    cudaMemcpy(Y, B, vectorBytes, cudaMemcpyHostToDevice);\n",
        "\n",
        "    int threadsPerBlock = 256;\n",
        "    int blocksPerGrid = (N + threadsPerBlock - 1) / threadsPerBlock;\n",
        "\n",
        "    add<<<blocksPerGrid, threadsPerBlock>>>(X, Y, Z, N);\n",
        "\n",
        "    cudaMemcpy(C, Z, vectorBytes, cudaMemcpyDeviceToHost);\n",
        "\n",
        "    cout << \"Addition: \";\n",
        "    print(C, N);\n",
        "\n",
        "    delete[] A;\n",
        "    delete[] B;\n",
        "    delete[] C;\n",
        "\n",
        "    cudaFree(X);\n",
        "    cudaFree(Y);\n",
        "    cudaFree(Z);\n",
        "\n",
        "    return 0;\n",
        "}\n"
      ],
      "metadata": {
        "id": "FyWAkcAFjFg_",
        "colab": {
          "base_uri": "https://localhost:8080/"
        },
        "outputId": "bb6fc473-dc3a-40f8-be7e-79f6cd742f8e"
      },
      "execution_count": null,
      "outputs": [
        {
          "output_type": "stream",
          "name": "stdout",
          "text": [
            "Overwriting vectorAdd.cu\n"
          ]
        }
      ]
    },
    {
      "cell_type": "code",
      "source": [
        "!nvcc -o vectorAdd vectorAdd.cu -Xcompiler -fopenmp\n",
        "!./vectorAdd"
      ],
      "metadata": {
        "colab": {
          "base_uri": "https://localhost:8080/"
        },
        "id": "uOajDGYB1ico",
        "outputId": "942e1417-a0b8-4bbe-8fc2-8e0f3a541c1f"
      },
      "execution_count": null,
      "outputs": [
        {
          "output_type": "stream",
          "name": "stdout",
          "text": [
            "Enter the size of the vectors: 20\n",
            "Vector A: 14 39 55 67 60 41 55 98 72 53 75 41 66 33 68 71 58 55 64 1 \n",
            "Vector B: 56 79 16 91 27 21 33 15 54 85 87 76 41 81 30 92 99 14 13 62 \n",
            "Addition: 70 118 71 158 87 62 88 113 126 138 162 117 107 114 98 163 157 69 77 63 \n"
          ]
        }
      ]
    },
    {
      "cell_type": "markdown",
      "source": [
        "## Matrix Multiplication"
      ],
      "metadata": {
        "id": "UCDTq_Cx07NU"
      }
    },
    {
      "cell_type": "code",
      "source": [
        "%%writefile matMul.cu\n",
        "\n",
        "\n",
        "#include <iostream>\n",
        "using namespace std;\n",
        "\n",
        "// CUDA code to multiply matrices\n",
        "__global__ void multiply(int* A, int* B, int* C, int size) {\n",
        "    // Uses thread indices and block indices to compute each element\n",
        "    int row = blockIdx.y * blockDim.y + threadIdx.y;\n",
        "    int col = blockIdx.x * blockDim.x + threadIdx.x;\n",
        "\n",
        "    if (row < size && col < size) {\n",
        "        int sum = 0;\n",
        "        for (int i = 0; i < size; i++) {\n",
        "            sum += A[row * size + i] * B[i * size + col];\n",
        "        }\n",
        "        C[row * size + col] = sum;\n",
        "    }\n",
        "}\n",
        "\n",
        "void initialize(int* matrix, int size) {\n",
        "    for (int i = 0; i < size * size; i++) {\n",
        "        matrix[i] = rand() % 10;\n",
        "    }\n",
        "}\n",
        "\n",
        "void print(int* matrix, int size) {\n",
        "    for (int row = 0; row < size; row++) {\n",
        "        for (int col = 0; col < size; col++) {\n",
        "            cout << matrix[row * size + col] << \" \";\n",
        "        }\n",
        "        cout << '\\n';\n",
        "    }\n",
        "    cout << '\\n';\n",
        "}\n",
        "\n",
        "int main() {\n",
        "    int N;\n",
        "    cout << \"Enter the size of the matrices: \";\n",
        "    cin >> N;\n",
        "\n",
        "    int* A, * B, * C;\n",
        "\n",
        "    int matrixSize = N * N;\n",
        "    size_t matrixBytes = matrixSize * sizeof(int);\n",
        "\n",
        "    A = new int[matrixSize];\n",
        "    B = new int[matrixSize];\n",
        "    C = new int[matrixSize];\n",
        "\n",
        "    initialize(A, N);\n",
        "    initialize(B, N);\n",
        "    cout << \"Matrix A: \\n\";\n",
        "    print(A, N);\n",
        "\n",
        "    cout << \"Matrix B: \\n\";\n",
        "    print(B, N);\n",
        "\n",
        "    int* X, * Y, * Z;\n",
        "    // Allocate space\n",
        "    cudaMalloc(&X, matrixBytes);\n",
        "    cudaMalloc(&Y, matrixBytes);\n",
        "    cudaMalloc(&Z, matrixBytes);\n",
        "\n",
        "    // Copy values from A to X\n",
        "    cudaMemcpy(X, A, matrixBytes, cudaMemcpyHostToDevice);\n",
        "\n",
        "    // Copy values from A to X and B to Y\n",
        "    cudaMemcpy(Y, B, matrixBytes, cudaMemcpyHostToDevice);\n",
        "\n",
        "    // Threads per CTA dimension\n",
        "    int THREADS = 2;\n",
        "\n",
        "    // Blocks per grid dimension (assumes THREADS divides N evenly)\n",
        "    int BLOCKS = (N + THREADS - 1) / THREADS;\n",
        "\n",
        "    // Use dim3 structs for block  and grid dimensions\n",
        "    dim3 threads(THREADS, THREADS);\n",
        "    dim3 blocks(BLOCKS, BLOCKS);\n",
        "\n",
        "    // Launch kernel\n",
        "    multiply<<<blocks, threads>>>(X, Y, Z, N);\n",
        "\n",
        "    cudaMemcpy(C, Z, matrixBytes, cudaMemcpyDeviceToHost);\n",
        "    cout << \"Multiplication of matrices A and B: \\n\";\n",
        "    print(C, N);\n",
        "\n",
        "    delete[] A;\n",
        "    delete[] B;\n",
        "    delete[] C;\n",
        "\n",
        "    cudaFree(X);\n",
        "    cudaFree(Y);\n",
        "    cudaFree(Z);\n",
        "\n",
        "    return 0;\n",
        "}\n",
        "\n"
      ],
      "metadata": {
        "colab": {
          "base_uri": "https://localhost:8080/"
        },
        "id": "wmuIKQkA09q9",
        "outputId": "0a3bbec7-a09e-4cd4-9d20-31ee1e32761a"
      },
      "execution_count": null,
      "outputs": [
        {
          "output_type": "stream",
          "name": "stdout",
          "text": [
            "Writing matMul.cu\n"
          ]
        }
      ]
    },
    {
      "cell_type": "code",
      "source": [
        "!nvcc -o matMul matMul.cu -Xcompiler -fopenmp\n",
        "!./matMul"
      ],
      "metadata": {
        "colab": {
          "base_uri": "https://localhost:8080/"
        },
        "id": "i2jgqID21TGO",
        "outputId": "49e8d8d5-617a-44c5-9947-c6b17739f3b4"
      },
      "execution_count": null,
      "outputs": [
        {
          "output_type": "stream",
          "name": "stdout",
          "text": [
            "Enter the size of the matrices: 10\n",
            "Matrix A: \n",
            "3 6 7 5 3 5 6 2 9 1 \n",
            "2 7 0 9 3 6 0 6 2 6 \n",
            "1 8 7 9 2 0 2 3 7 5 \n",
            "9 2 2 8 9 7 3 6 1 2 \n",
            "9 3 1 9 4 7 8 4 5 0 \n",
            "3 6 1 0 6 3 2 0 6 1 \n",
            "5 5 4 7 6 5 6 9 3 7 \n",
            "4 5 2 5 4 7 4 4 3 0 \n",
            "7 8 6 8 8 4 3 1 4 9 \n",
            "2 0 6 8 9 2 6 6 4 9 \n",
            "\n",
            "Matrix B: \n",
            "5 0 4 8 7 1 7 2 7 2 \n",
            "2 6 1 0 6 1 5 9 4 9 \n",
            "0 9 1 7 7 1 1 5 9 7 \n",
            "7 6 7 3 6 5 6 3 9 4 \n",
            "8 1 2 9 3 9 0 8 8 5 \n",
            "0 9 6 3 8 5 6 1 1 5 \n",
            "9 8 4 8 1 0 3 0 4 4 \n",
            "4 4 7 6 3 1 7 5 9 6 \n",
            "2 1 7 8 5 7 4 1 8 5 \n",
            "9 7 5 3 8 8 3 1 8 9 \n",
            "\n",
            "Multiplication of matrices A and B: \n",
            "175 249 202 265 250 166 189 159 304 259 \n",
            "193 221 206 158 243 179 207 162 271 248 \n",
            "189 237 189 207 250 171 178 179 330 275 \n",
            "248 213 227 286 262 198 226 182 330 233 \n",
            "244 233 248 291 255 168 247 141 312 224 \n",
            "114 107 104 161 146 129 103 123 169 159 \n",
            "291 295 263 305 297 214 250 204 392 322 \n",
            "155 196 173 198 201 132 179 140 226 197 \n",
            "291 289 230 295 341 254 226 226 400 339 \n",
            "305 268 239 312 263 245 183 175 396 294 \n",
            "\n"
          ]
        }
      ]
    },
    {
      "cell_type": "code",
      "source": [],
      "metadata": {
        "id": "1VWJLBFk1dwC"
      },
      "execution_count": null,
      "outputs": []
    }
  ]
}